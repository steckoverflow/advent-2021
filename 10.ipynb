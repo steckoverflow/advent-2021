{
 "cells": [
  {
   "cell_type": "code",
   "execution_count": 9,
   "metadata": {},
   "outputs": [],
   "source": [
    "with open(\"input-test\", \"r\") as f:\n",
    "    data = f.read().splitlines()"
   ]
  },
  {
   "cell_type": "code",
   "execution_count": 12,
   "metadata": {},
   "outputs": [],
   "source": [
    "corrupted = []\n",
    "valid_open = \"([{<\"\n",
    "valid_close = \")]}>\"\n",
    "close_map = {\"(\": \")\", \"[\": \"]\", \"{\": \"}\", \"<\": \">\"}\n",
    "\n",
    "for row in data:\n",
    "    openings = []\n",
    "    closing = []\n",
    "    for char in row:\n",
    "        if char in valid_open: # char is valid open and and move on\n",
    "            openings.append(char)\n",
    "        if char in valid_close: # char is valid close \n",
    "            if not openings[-1] == char:\n",
    "                print(f\"char={char} does not match the last opener {openings[-1]}. Row invalid.\")\n",
    "                corrupted.append(row)\n",
    "            else:\n",
    "                closing.append(char)\n",
    "        \n",
    "    \n",
    "    # go over every char\n",
    "    # track openers\n"
   ]
  },
  {
   "cell_type": "code",
   "execution_count": null,
   "metadata": {},
   "outputs": [],
   "source": []
  }
 ],
 "metadata": {
  "interpreter": {
   "hash": "091ca66802aca54fda47a74b5efba9fb4d8cd8eb224149339691783a2320bfd4"
  },
  "kernelspec": {
   "display_name": "Python 3.10.0 64-bit ('3.10.0': pyenv)",
   "language": "python",
   "name": "python3"
  },
  "language_info": {
   "codemirror_mode": {
    "name": "ipython",
    "version": 3
   },
   "file_extension": ".py",
   "mimetype": "text/x-python",
   "name": "python",
   "nbconvert_exporter": "python",
   "pygments_lexer": "ipython3",
   "version": "3.10.0"
  },
  "orig_nbformat": 4
 },
 "nbformat": 4,
 "nbformat_minor": 2
}
