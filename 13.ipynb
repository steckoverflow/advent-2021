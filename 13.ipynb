{
 "cells": [
  {
   "cell_type": "code",
   "execution_count": 54,
   "metadata": {},
   "outputs": [],
   "source": [
    "with open(\"input-test\", \"r\") as f:\n",
    "    d = f.read().splitlines()\n",
    "    \n",
    "def print_grid(grid):\n",
    "    for row in grid:\n",
    "        print(\"\".join(row))"
   ]
  },
  {
   "cell_type": "code",
   "execution_count": 55,
   "metadata": {},
   "outputs": [],
   "source": [
    "empty_line = [i for i, v in enumerate(d) if len(v) == 0][0]\n",
    "positions, folds = d[0: empty_line], d[empty_line + 1:]\n"
   ]
  },
  {
   "cell_type": "code",
   "execution_count": 56,
   "metadata": {},
   "outputs": [
    {
     "data": {
      "text/plain": [
       "(10, 14)"
      ]
     },
     "execution_count": 56,
     "metadata": {},
     "output_type": "execute_result"
    }
   ],
   "source": [
    "mx, my = max([int(v.split(\",\")[0]) for v in positions]), max([int(v.split(\",\")[1]) for v in positions])\n",
    "mx, my"
   ]
  },
  {
   "cell_type": "code",
   "execution_count": 62,
   "metadata": {},
   "outputs": [],
   "source": [
    "# build grid\n",
    "grid = []\n",
    "for y in range(my + 1):\n",
    "    grid.append([])\n",
    "    for x in range(mx + 1):\n",
    "        grid[y].append(\".\")"
   ]
  },
  {
   "cell_type": "code",
   "execution_count": 70,
   "metadata": {},
   "outputs": [],
   "source": [
    "for position in positions:\n",
    "    x, y = map(int, position.split(\",\"))\n",
    "    grid[y][x] = \"#\""
   ]
  },
  {
   "cell_type": "code",
   "execution_count": 71,
   "metadata": {},
   "outputs": [
    {
     "name": "stdout",
     "output_type": "stream",
     "text": [
      "Before start\n",
      "...#..#..#.\n",
      "....#......\n",
      "...........\n",
      "#..........\n",
      "...#....#.#\n",
      "...........\n",
      "...........\n",
      "...........\n",
      "...........\n",
      "...........\n",
      ".#....#.##.\n",
      "....#......\n",
      "......#...#\n",
      "#..........\n",
      "#.#........\n"
     ]
    },
    {
     "data": {
      "text/plain": [
       "['fold along y=7', 'fold along x=5']"
      ]
     },
     "execution_count": 71,
     "metadata": {},
     "output_type": "execute_result"
    }
   ],
   "source": [
    "print(\"Before start\")\n",
    "print_grid(grid)\n",
    "folds"
   ]
  },
  {
   "cell_type": "code",
   "execution_count": 73,
   "metadata": {},
   "outputs": [
    {
     "name": "stdout",
     "output_type": "stream",
     "text": [
      "[['.', '.', '.', '#', '.', '.', '#', '.', '.', '#', '.'], ['.', '.', '.', '.', '#', '.', '.', '.', '.', '.', '.'], ['.', '.', '.', '.', '.', '.', '.', '.', '.', '.', '.'], ['#', '.', '.', '.', '.', '.', '.', '.', '.', '.', '.'], ['.', '.', '.', '#', '.', '.', '.', '.', '#', '.', '#'], ['.', '.', '.', '.', '.', '.', '.', '.', '.', '.', '.'], ['.', '.', '.', '.', '.', '.', '.', '.', '.', '.', '.']]\n"
     ]
    }
   ],
   "source": [
    "for fold in folds:\n",
    "    axis, pos = fold.split(\" \")[2:][0].split(\"=\")\n",
    "    \n",
    "    if axis == \"y\":\n",
    "        new_grid = grid[:int(pos)]\n",
    "        print(new_grid)\n",
    "    "
   ]
  },
  {
   "cell_type": "code",
   "execution_count": null,
   "metadata": {},
   "outputs": [],
   "source": []
  }
 ],
 "metadata": {
  "interpreter": {
   "hash": "091ca66802aca54fda47a74b5efba9fb4d8cd8eb224149339691783a2320bfd4"
  },
  "kernelspec": {
   "display_name": "Python 3.10.0 64-bit ('3.10.0': pyenv)",
   "language": "python",
   "name": "python3"
  },
  "language_info": {
   "codemirror_mode": {
    "name": "ipython",
    "version": 3
   },
   "file_extension": ".py",
   "mimetype": "text/x-python",
   "name": "python",
   "nbconvert_exporter": "python",
   "pygments_lexer": "ipython3",
   "version": "3.10.0"
  },
  "orig_nbformat": 4
 },
 "nbformat": 4,
 "nbformat_minor": 2
}
