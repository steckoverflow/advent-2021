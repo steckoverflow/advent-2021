{
 "cells": [
  {
   "cell_type": "code",
   "execution_count": null,
   "metadata": {},
   "outputs": [
    {
     "data": {
      "text/plain": [
       "526"
      ]
     },
     "execution_count": 26,
     "metadata": {},
     "output_type": "execute_result"
    }
   ],
   "source": [
    "# part 1\n",
    "with open(\"input.txt\", \"r\") as f:\n",
    "    data = f.read().splitlines()\n",
    "\n",
    "data = [ [ int(value) for value in row ] for row in data]\n",
    "values = []\n",
    "for x in range(len(data)):\n",
    "    for y in range(len(data[0])):\n",
    "        adjacent = []\n",
    "        if y > 0:\n",
    "            adjacent.append(data[x][y-1])\n",
    "        if y < (len(data[0]) - 1):\n",
    "            adjacent.append(data[x][y+1])\n",
    "        if x > 0:\n",
    "            adjacent.append(data[x-1][y])\n",
    "        if x < (len(data) - 1):\n",
    "            adjacent.append(data[x+1][y])\n",
    "        if data[x][y] < min(adjacent):\n",
    "            values.append(data[x][y] + 1)\n",
    "\n",
    "sum(values)\n"
   ]
  },
  {
   "cell_type": "code",
   "execution_count": 1,
   "metadata": {},
   "outputs": [
    {
     "name": "stdout",
     "output_type": "stream",
     "text": [
      "[96, 97, 100]\n",
      "931200\n"
     ]
    }
   ],
   "source": [
    "# part 2\n",
    "with open(\"input9-1.txt\", \"r\") as f:\n",
    "    data = f.read().splitlines()\n",
    "\n",
    "data = [ [ int(value) for value in row ] for row in data ]\n",
    "\n",
    "visited_points = []\n",
    "basins = []\n",
    "\n",
    "def basin(data, x, y, count = 0):\n",
    "    if (x, y) not in visited_points:\n",
    "        visited_points.append((x, y))\n",
    "        if data[x][y] != 9:\n",
    "            count += 1\n",
    "            if x < (len(data) - 1):\n",
    "                count += basin(data, x+1, y)\n",
    "            if x > 0:\n",
    "                count += basin(data, x-1, y)\n",
    "            if y > 0:\n",
    "                count += basin(data, x, y-1)\n",
    "            if y < (len(data[0]) - 1):\n",
    "                count += basin(data, x, y+1)\n",
    "            return count\n",
    "    return 0\n",
    "\n",
    "for x in range(len(data)):\n",
    "    for y in range(len(data[0])):\n",
    "        basins.append(basin(data, x, y))\n",
    "\n",
    "top_basins = list(sorted(basins))[-3:]\n",
    "print(top_basins)\n",
    "print(top_basins[0] * top_basins[1] * top_basins[2])"
   ]
  },
  {
   "cell_type": "code",
   "execution_count": null,
   "metadata": {},
   "outputs": [],
   "source": []
  }
 ],
 "metadata": {
  "interpreter": {
   "hash": "767d51c1340bd893661ea55ea3124f6de3c7a262a8b4abca0554b478b1e2ff90"
  },
  "kernelspec": {
   "display_name": "Python 3.8.10 64-bit",
   "name": "python3"
  },
  "language_info": {
   "codemirror_mode": {
    "name": "ipython",
    "version": 3
   },
   "file_extension": ".py",
   "mimetype": "text/x-python",
   "name": "python",
   "nbconvert_exporter": "python",
   "pygments_lexer": "ipython3",
   "version": "3.10.0"
  },
  "orig_nbformat": 4
 },
 "nbformat": 4,
 "nbformat_minor": 2
}
